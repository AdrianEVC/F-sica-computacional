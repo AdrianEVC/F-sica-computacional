{
 "cells": [
  {
   "cell_type": "code",
   "execution_count": 30,
   "metadata": {},
   "outputs": [],
   "source": [
    "#Importante las bibliotecas\n",
    "import pandas as pd\n",
    "import numpy as np\n",
    "import matplotlib.pyplot as plt\n"
   ]
  },
  {
   "cell_type": "code",
   "execution_count": 31,
   "metadata": {},
   "outputs": [
    {
     "data": {
      "text/html": [
       "<div>\n",
       "<style>\n",
       "    .dataframe thead tr:only-child th {\n",
       "        text-align: right;\n",
       "    }\n",
       "\n",
       "    .dataframe thead th {\n",
       "        text-align: left;\n",
       "    }\n",
       "\n",
       "    .dataframe tbody tr th {\n",
       "        vertical-align: top;\n",
       "    }\n",
       "</style>\n",
       "<table border=\"1\" class=\"dataframe\">\n",
       "  <thead>\n",
       "    <tr style=\"text-align: right;\">\n",
       "      <th></th>\n",
       "      <th>FECHA</th>\n",
       "      <th>PRECIP</th>\n",
       "      <th>EVAP</th>\n",
       "      <th>TMAX</th>\n",
       "      <th>TMIN</th>\n",
       "    </tr>\n",
       "  </thead>\n",
       "  <tbody>\n",
       "    <tr>\n",
       "      <th>0</th>\n",
       "      <td>01/08/1977</td>\n",
       "      <td>0</td>\n",
       "      <td>11.5</td>\n",
       "      <td>40</td>\n",
       "      <td>27</td>\n",
       "    </tr>\n",
       "    <tr>\n",
       "      <th>1</th>\n",
       "      <td>02/08/1977</td>\n",
       "      <td>0</td>\n",
       "      <td>10.9</td>\n",
       "      <td>39</td>\n",
       "      <td>27</td>\n",
       "    </tr>\n",
       "    <tr>\n",
       "      <th>2</th>\n",
       "      <td>03/08/1977</td>\n",
       "      <td>0</td>\n",
       "      <td>11.5</td>\n",
       "      <td>42</td>\n",
       "      <td>25</td>\n",
       "    </tr>\n",
       "    <tr>\n",
       "      <th>3</th>\n",
       "      <td>04/08/1977</td>\n",
       "      <td>0</td>\n",
       "      <td>11.5</td>\n",
       "      <td>43</td>\n",
       "      <td>24</td>\n",
       "    </tr>\n",
       "    <tr>\n",
       "      <th>4</th>\n",
       "      <td>05/08/1977</td>\n",
       "      <td>0</td>\n",
       "      <td>10.8</td>\n",
       "      <td>43</td>\n",
       "      <td>24</td>\n",
       "    </tr>\n",
       "  </tbody>\n",
       "</table>\n",
       "</div>"
      ],
      "text/plain": [
       "        FECHA PRECIP  EVAP TMAX TMIN\n",
       "0  01/08/1977      0  11.5   40   27\n",
       "1  02/08/1977      0  10.9   39   27\n",
       "2  03/08/1977      0  11.5   42   25\n",
       "3  04/08/1977      0  11.5   43   24\n",
       "4  05/08/1977      0  10.8   43   24"
      ]
     },
     "execution_count": 31,
     "metadata": {},
     "output_type": "execute_result"
    }
   ],
   "source": [
    "df0= pd.read_csv('caborca.txt', skiprows=20, skipfooter=1, sep='\\s+',header=None, names=[\"FECHA\",\"PRECIP\",\"EVAP\",\"TMAX\",\"TMIN\"], engine='python')\n",
    "df0.head()"
   ]
  },
  {
   "cell_type": "code",
   "execution_count": 32,
   "metadata": {},
   "outputs": [],
   "source": [
    "#Le damos estructura a los datos\n",
    "df = pd.DataFrame(df0)\n"
   ]
  },
  {
   "cell_type": "code",
   "execution_count": 33,
   "metadata": {},
   "outputs": [
    {
     "data": {
      "text/plain": [
       "FECHA     object\n",
       "PRECIP    object\n",
       "EVAP      object\n",
       "TMAX      object\n",
       "TMIN      object\n",
       "dtype: object"
      ]
     },
     "execution_count": 33,
     "metadata": {},
     "output_type": "execute_result"
    }
   ],
   "source": [
    "#Tipos de datos que pandas a dectecta en el DataFrame\n",
    "df.dtypes"
   ]
  },
  {
   "cell_type": "code",
   "execution_count": 34,
   "metadata": {},
   "outputs": [],
   "source": [
    "#Cambiar los valores nulos a NaN\n",
    "df['PRECIP'] = df['PRECIP'].str.replace('Nulo','NaN').astype(np.float64)\n",
    "df['EVAP'] = df['EVAP'].str.replace('Nulo','NaN').astype(np.float64)\n",
    "df['TMAX'] = df['TMAX'].str.replace('Nulo','NaN').astype(np.float64)\n",
    "df['TMIN'] = df['TMIN'].str.replace('Nulo','NaN').astype(np.float64)\n"
   ]
  },
  {
   "cell_type": "code",
   "execution_count": 35,
   "metadata": {},
   "outputs": [
    {
     "data": {
      "text/html": [
       "<div>\n",
       "<style>\n",
       "    .dataframe thead tr:only-child th {\n",
       "        text-align: right;\n",
       "    }\n",
       "\n",
       "    .dataframe thead th {\n",
       "        text-align: left;\n",
       "    }\n",
       "\n",
       "    .dataframe tbody tr th {\n",
       "        vertical-align: top;\n",
       "    }\n",
       "</style>\n",
       "<table border=\"1\" class=\"dataframe\">\n",
       "  <thead>\n",
       "    <tr style=\"text-align: right;\">\n",
       "      <th></th>\n",
       "      <th>PRECIP</th>\n",
       "      <th>EVAP</th>\n",
       "      <th>TMAX</th>\n",
       "      <th>TMIN</th>\n",
       "      <th>NFECHA</th>\n",
       "    </tr>\n",
       "  </thead>\n",
       "  <tbody>\n",
       "    <tr>\n",
       "      <th>0</th>\n",
       "      <td>0.0</td>\n",
       "      <td>11.5</td>\n",
       "      <td>40.0</td>\n",
       "      <td>27.0</td>\n",
       "      <td>1977-08-01</td>\n",
       "    </tr>\n",
       "    <tr>\n",
       "      <th>1</th>\n",
       "      <td>0.0</td>\n",
       "      <td>10.9</td>\n",
       "      <td>39.0</td>\n",
       "      <td>27.0</td>\n",
       "      <td>1977-08-02</td>\n",
       "    </tr>\n",
       "    <tr>\n",
       "      <th>2</th>\n",
       "      <td>0.0</td>\n",
       "      <td>11.5</td>\n",
       "      <td>42.0</td>\n",
       "      <td>25.0</td>\n",
       "      <td>1977-08-03</td>\n",
       "    </tr>\n",
       "    <tr>\n",
       "      <th>3</th>\n",
       "      <td>0.0</td>\n",
       "      <td>11.5</td>\n",
       "      <td>43.0</td>\n",
       "      <td>24.0</td>\n",
       "      <td>1977-08-04</td>\n",
       "    </tr>\n",
       "    <tr>\n",
       "      <th>4</th>\n",
       "      <td>0.0</td>\n",
       "      <td>10.8</td>\n",
       "      <td>43.0</td>\n",
       "      <td>24.0</td>\n",
       "      <td>1977-08-05</td>\n",
       "    </tr>\n",
       "  </tbody>\n",
       "</table>\n",
       "</div>"
      ],
      "text/plain": [
       "   PRECIP  EVAP  TMAX  TMIN     NFECHA\n",
       "0     0.0  11.5  40.0  27.0 1977-08-01\n",
       "1     0.0  10.9  39.0  27.0 1977-08-02\n",
       "2     0.0  11.5  42.0  25.0 1977-08-03\n",
       "3     0.0  11.5  43.0  24.0 1977-08-04\n",
       "4     0.0  10.8  43.0  24.0 1977-08-05"
      ]
     },
     "execution_count": 35,
     "metadata": {},
     "output_type": "execute_result"
    }
   ],
   "source": [
    "#Cambiar la fecha tipo object a fecha tipo date\n",
    "df['NFECHA'] = pd.to_datetime(df.apply(lambda x: x['FECHA'], 1), dayfirst=True)\n",
    "df = df.drop(['FECHA'], 1)\n",
    "\n",
    "df.head()"
   ]
  },
  {
   "cell_type": "code",
   "execution_count": 36,
   "metadata": {},
   "outputs": [
    {
     "data": {
      "text/plain": [
       "PRECIP           float64\n",
       "EVAP             float64\n",
       "TMAX             float64\n",
       "TMIN             float64\n",
       "NFECHA    datetime64[ns]\n",
       "dtype: object"
      ]
     },
     "execution_count": 36,
     "metadata": {},
     "output_type": "execute_result"
    }
   ],
   "source": [
    "df.dtypes"
   ]
  },
  {
   "cell_type": "code",
   "execution_count": 37,
   "metadata": {},
   "outputs": [
    {
     "data": {
      "text/html": [
       "<div>\n",
       "<style>\n",
       "    .dataframe thead tr:only-child th {\n",
       "        text-align: right;\n",
       "    }\n",
       "\n",
       "    .dataframe thead th {\n",
       "        text-align: left;\n",
       "    }\n",
       "\n",
       "    .dataframe tbody tr th {\n",
       "        vertical-align: top;\n",
       "    }\n",
       "</style>\n",
       "<table border=\"1\" class=\"dataframe\">\n",
       "  <thead>\n",
       "    <tr style=\"text-align: right;\">\n",
       "      <th></th>\n",
       "      <th>PRECIP</th>\n",
       "      <th>EVAP</th>\n",
       "      <th>TMAX</th>\n",
       "      <th>TMIN</th>\n",
       "      <th>NFECHA</th>\n",
       "    </tr>\n",
       "  </thead>\n",
       "  <tbody>\n",
       "    <tr>\n",
       "      <th>4036</th>\n",
       "      <td>0.0</td>\n",
       "      <td>NaN</td>\n",
       "      <td>22.0</td>\n",
       "      <td>6.0</td>\n",
       "      <td>2004-12-27</td>\n",
       "    </tr>\n",
       "    <tr>\n",
       "      <th>4037</th>\n",
       "      <td>0.0</td>\n",
       "      <td>NaN</td>\n",
       "      <td>21.0</td>\n",
       "      <td>8.0</td>\n",
       "      <td>2004-12-28</td>\n",
       "    </tr>\n",
       "    <tr>\n",
       "      <th>4038</th>\n",
       "      <td>0.0</td>\n",
       "      <td>NaN</td>\n",
       "      <td>23.0</td>\n",
       "      <td>11.0</td>\n",
       "      <td>2004-12-29</td>\n",
       "    </tr>\n",
       "    <tr>\n",
       "      <th>4039</th>\n",
       "      <td>0.0</td>\n",
       "      <td>NaN</td>\n",
       "      <td>21.0</td>\n",
       "      <td>9.5</td>\n",
       "      <td>2004-12-30</td>\n",
       "    </tr>\n",
       "    <tr>\n",
       "      <th>4040</th>\n",
       "      <td>0.0</td>\n",
       "      <td>NaN</td>\n",
       "      <td>NaN</td>\n",
       "      <td>6.0</td>\n",
       "      <td>2004-12-31</td>\n",
       "    </tr>\n",
       "  </tbody>\n",
       "</table>\n",
       "</div>"
      ],
      "text/plain": [
       "      PRECIP  EVAP  TMAX  TMIN     NFECHA\n",
       "4036     0.0   NaN  22.0   6.0 2004-12-27\n",
       "4037     0.0   NaN  21.0   8.0 2004-12-28\n",
       "4038     0.0   NaN  23.0  11.0 2004-12-29\n",
       "4039     0.0   NaN  21.0   9.5 2004-12-30\n",
       "4040     0.0   NaN   NaN   6.0 2004-12-31"
      ]
     },
     "execution_count": 37,
     "metadata": {},
     "output_type": "execute_result"
    }
   ],
   "source": [
    "df.tail()"
   ]
  },
  {
   "cell_type": "code",
   "execution_count": 38,
   "metadata": {},
   "outputs": [
    {
     "data": {
      "text/plain": [
       "PRECIP     0.850866\n",
       "EVAP       6.821810\n",
       "TMAX      30.851168\n",
       "TMIN      13.322277\n",
       "dtype: float64"
      ]
     },
     "execution_count": 38,
     "metadata": {},
     "output_type": "execute_result"
    }
   ],
   "source": [
    "df.mean()"
   ]
  },
  {
   "cell_type": "code",
   "execution_count": 39,
   "metadata": {},
   "outputs": [
    {
     "data": {
      "text/plain": [
       "PRECIP    4.669046\n",
       "EVAP      3.612013\n",
       "TMAX      8.363195\n",
       "TMIN      7.574592\n",
       "dtype: float64"
      ]
     },
     "execution_count": 39,
     "metadata": {},
     "output_type": "execute_result"
    }
   ],
   "source": [
    "df.std()"
   ]
  },
  {
   "cell_type": "code",
   "execution_count": 40,
   "metadata": {},
   "outputs": [
    {
     "data": {
      "text/plain": [
       "PRECIP     0.0\n",
       "EVAP       6.4\n",
       "TMAX      32.0\n",
       "TMIN      12.0\n",
       "dtype: float64"
      ]
     },
     "execution_count": 40,
     "metadata": {},
     "output_type": "execute_result"
    }
   ],
   "source": [
    "df.median()"
   ]
  },
  {
   "cell_type": "code",
   "execution_count": 41,
   "metadata": {},
   "outputs": [
    {
     "data": {
      "text/plain": [
       "PRECIP                  119.8\n",
       "EVAP                     17.8\n",
       "TMAX                       48\n",
       "TMIN                       30\n",
       "NFECHA    2004-12-31 00:00:00\n",
       "dtype: object"
      ]
     },
     "execution_count": 41,
     "metadata": {},
     "output_type": "execute_result"
    }
   ],
   "source": [
    "df.max()"
   ]
  },
  {
   "cell_type": "code",
   "execution_count": 42,
   "metadata": {},
   "outputs": [
    {
     "data": {
      "text/plain": [
       "PRECIP                      0\n",
       "EVAP                      0.2\n",
       "TMAX                        6\n",
       "TMIN                     -3.5\n",
       "NFECHA    1977-08-01 00:00:00\n",
       "dtype: object"
      ]
     },
     "execution_count": 42,
     "metadata": {},
     "output_type": "execute_result"
    }
   ],
   "source": [
    "df.min()"
   ]
  },
  {
   "cell_type": "code",
   "execution_count": 43,
   "metadata": {},
   "outputs": [
    {
     "data": {
      "text/html": [
       "<div>\n",
       "<style>\n",
       "    .dataframe thead tr:only-child th {\n",
       "        text-align: right;\n",
       "    }\n",
       "\n",
       "    .dataframe thead th {\n",
       "        text-align: left;\n",
       "    }\n",
       "\n",
       "    .dataframe tbody tr th {\n",
       "        vertical-align: top;\n",
       "    }\n",
       "</style>\n",
       "<table border=\"1\" class=\"dataframe\">\n",
       "  <thead>\n",
       "    <tr style=\"text-align: right;\">\n",
       "      <th></th>\n",
       "      <th>PRECIP</th>\n",
       "      <th>EVAP</th>\n",
       "      <th>TMAX</th>\n",
       "      <th>TMIN</th>\n",
       "    </tr>\n",
       "  </thead>\n",
       "  <tbody>\n",
       "    <tr>\n",
       "      <th>count</th>\n",
       "      <td>4040.000000</td>\n",
       "      <td>2563.000000</td>\n",
       "      <td>4024.000000</td>\n",
       "      <td>4040.000000</td>\n",
       "    </tr>\n",
       "    <tr>\n",
       "      <th>mean</th>\n",
       "      <td>0.850866</td>\n",
       "      <td>6.821810</td>\n",
       "      <td>30.851168</td>\n",
       "      <td>13.322277</td>\n",
       "    </tr>\n",
       "    <tr>\n",
       "      <th>std</th>\n",
       "      <td>4.669046</td>\n",
       "      <td>3.612013</td>\n",
       "      <td>8.363195</td>\n",
       "      <td>7.574592</td>\n",
       "    </tr>\n",
       "    <tr>\n",
       "      <th>min</th>\n",
       "      <td>0.000000</td>\n",
       "      <td>0.200000</td>\n",
       "      <td>6.000000</td>\n",
       "      <td>-3.500000</td>\n",
       "    </tr>\n",
       "    <tr>\n",
       "      <th>25%</th>\n",
       "      <td>0.000000</td>\n",
       "      <td>3.850000</td>\n",
       "      <td>24.000000</td>\n",
       "      <td>7.000000</td>\n",
       "    </tr>\n",
       "    <tr>\n",
       "      <th>50%</th>\n",
       "      <td>0.000000</td>\n",
       "      <td>6.400000</td>\n",
       "      <td>32.000000</td>\n",
       "      <td>12.000000</td>\n",
       "    </tr>\n",
       "    <tr>\n",
       "      <th>75%</th>\n",
       "      <td>0.000000</td>\n",
       "      <td>9.700000</td>\n",
       "      <td>38.500000</td>\n",
       "      <td>20.000000</td>\n",
       "    </tr>\n",
       "    <tr>\n",
       "      <th>max</th>\n",
       "      <td>119.800000</td>\n",
       "      <td>17.800000</td>\n",
       "      <td>48.000000</td>\n",
       "      <td>30.000000</td>\n",
       "    </tr>\n",
       "  </tbody>\n",
       "</table>\n",
       "</div>"
      ],
      "text/plain": [
       "            PRECIP         EVAP         TMAX         TMIN\n",
       "count  4040.000000  2563.000000  4024.000000  4040.000000\n",
       "mean      0.850866     6.821810    30.851168    13.322277\n",
       "std       4.669046     3.612013     8.363195     7.574592\n",
       "min       0.000000     0.200000     6.000000    -3.500000\n",
       "25%       0.000000     3.850000    24.000000     7.000000\n",
       "50%       0.000000     6.400000    32.000000    12.000000\n",
       "75%       0.000000     9.700000    38.500000    20.000000\n",
       "max     119.800000    17.800000    48.000000    30.000000"
      ]
     },
     "execution_count": 43,
     "metadata": {},
     "output_type": "execute_result"
    }
   ],
   "source": [
    "df.describe()"
   ]
  },
  {
   "cell_type": "code",
   "execution_count": 44,
   "metadata": {},
   "outputs": [
    {
     "data": {
      "text/html": [
       "<div>\n",
       "<style>\n",
       "    .dataframe thead tr:only-child th {\n",
       "        text-align: right;\n",
       "    }\n",
       "\n",
       "    .dataframe thead th {\n",
       "        text-align: left;\n",
       "    }\n",
       "\n",
       "    .dataframe tbody tr th {\n",
       "        vertical-align: top;\n",
       "    }\n",
       "</style>\n",
       "<table border=\"1\" class=\"dataframe\">\n",
       "  <thead>\n",
       "    <tr style=\"text-align: right;\">\n",
       "      <th></th>\n",
       "      <th>PRECIP</th>\n",
       "      <th>EVAP</th>\n",
       "      <th>TMAX</th>\n",
       "      <th>TMIN</th>\n",
       "      <th>NFECHA</th>\n",
       "      <th>month</th>\n",
       "      <th>year</th>\n",
       "    </tr>\n",
       "  </thead>\n",
       "  <tbody>\n",
       "    <tr>\n",
       "      <th>0</th>\n",
       "      <td>0.0</td>\n",
       "      <td>11.5</td>\n",
       "      <td>40.0</td>\n",
       "      <td>27.0</td>\n",
       "      <td>1977-08-01</td>\n",
       "      <td>8</td>\n",
       "      <td>1977</td>\n",
       "    </tr>\n",
       "    <tr>\n",
       "      <th>1</th>\n",
       "      <td>0.0</td>\n",
       "      <td>10.9</td>\n",
       "      <td>39.0</td>\n",
       "      <td>27.0</td>\n",
       "      <td>1977-08-02</td>\n",
       "      <td>8</td>\n",
       "      <td>1977</td>\n",
       "    </tr>\n",
       "    <tr>\n",
       "      <th>2</th>\n",
       "      <td>0.0</td>\n",
       "      <td>11.5</td>\n",
       "      <td>42.0</td>\n",
       "      <td>25.0</td>\n",
       "      <td>1977-08-03</td>\n",
       "      <td>8</td>\n",
       "      <td>1977</td>\n",
       "    </tr>\n",
       "    <tr>\n",
       "      <th>3</th>\n",
       "      <td>0.0</td>\n",
       "      <td>11.5</td>\n",
       "      <td>43.0</td>\n",
       "      <td>24.0</td>\n",
       "      <td>1977-08-04</td>\n",
       "      <td>8</td>\n",
       "      <td>1977</td>\n",
       "    </tr>\n",
       "    <tr>\n",
       "      <th>4</th>\n",
       "      <td>0.0</td>\n",
       "      <td>10.8</td>\n",
       "      <td>43.0</td>\n",
       "      <td>24.0</td>\n",
       "      <td>1977-08-05</td>\n",
       "      <td>8</td>\n",
       "      <td>1977</td>\n",
       "    </tr>\n",
       "  </tbody>\n",
       "</table>\n",
       "</div>"
      ],
      "text/plain": [
       "   PRECIP  EVAP  TMAX  TMIN     NFECHA  month  year\n",
       "0     0.0  11.5  40.0  27.0 1977-08-01      8  1977\n",
       "1     0.0  10.9  39.0  27.0 1977-08-02      8  1977\n",
       "2     0.0  11.5  42.0  25.0 1977-08-03      8  1977\n",
       "3     0.0  11.5  43.0  24.0 1977-08-04      8  1977\n",
       "4     0.0  10.8  43.0  24.0 1977-08-05      8  1977"
      ]
     },
     "execution_count": 44,
     "metadata": {},
     "output_type": "execute_result"
    }
   ],
   "source": [
    "df['month'] = df['NFECHA'].dt.month\n",
    "df['year'] = df['NFECHA'].dt.year\n",
    "df.head()"
   ]
  },
  {
   "cell_type": "code",
   "execution_count": 45,
   "metadata": {},
   "outputs": [
    {
     "data": {
      "text/plain": [
       "12"
      ]
     },
     "execution_count": 45,
     "metadata": {},
     "output_type": "execute_result"
    }
   ],
   "source": [
    "#Calculando el numero de años con resgistros en el DataFrame\n",
    "n=df['NFECHA'].dt.year.unique()\n",
    "len(n)"
   ]
  },
  {
   "cell_type": "code",
   "execution_count": 46,
   "metadata": {},
   "outputs": [
    {
     "name": "stdout",
     "output_type": "stream",
     "text": [
      "mes 1 23.833333333333332 mm\n",
      "mes 2 11.799999999999999 mm\n",
      "mes 3 16.566666666666666 mm\n",
      "mes 4 5.6000000000000005 mm\n",
      "mes 5 0.9833333333333334 mm\n",
      "mes 6 1.2333333333333334 mm\n",
      "mes 7 55.87499999999999 mm\n",
      "mes 8 72.19166666666668 mm\n",
      "mes 9 28.23333333333333 mm\n",
      "mes 10 16.483333333333338 mm\n",
      "mes 11 20.241666666666664 mm\n"
     ]
    }
   ],
   "source": [
    "#Calculando los mese con mas lluvias \"Agosto fue el mes donde mas llovio\"\n",
    "for i in range(1,12):\n",
    "    r1=df[df.month==i].PRECIP.sum()/len(n)\n",
    "    print('mes',i,r1,'mm')\n"
   ]
  },
  {
   "cell_type": "code",
   "execution_count": 47,
   "metadata": {},
   "outputs": [
    {
     "name": "stdout",
     "output_type": "stream",
     "text": [
      "mes 1 21.059587020648966 ℃\n",
      "mes 2 22.389644012944984 ℃\n",
      "mes 3 25.304545454545455 ℃\n",
      "mes 4 29.536666666666665 ℃\n",
      "mes 5 35.41348973607038 ℃\n",
      "mes 6 39.985 ℃\n",
      "mes 7 40.36135693215339 ℃\n",
      "mes 8 38.892183288409704 ℃\n",
      "mes 9 37.78272980501393 ℃\n",
      "mes 10 32.30177514792899 ℃\n",
      "mes 11 25.536585365853657 ℃\n"
     ]
    }
   ],
   "source": [
    "#Calculando los meses más calidos \"Mes mas calido fue Julio\"\n",
    "for i in range(1,12):\n",
    "    r2=df[df.month==i].TMAX.mean()\n",
    "    print('mes',i,r2,'℃')"
   ]
  },
  {
   "cell_type": "code",
   "execution_count": 48,
   "metadata": {},
   "outputs": [
    {
     "name": "stdout",
     "output_type": "stream",
     "text": [
      "mes 1 5.212609970674487 ℃\n",
      "mes 2 5.771704180064309 ℃\n",
      "mes 3 7.873493975903615 ℃\n",
      "mes 4 10.431666666666667 ℃\n",
      "mes 5 13.939882697947214 ℃\n",
      "mes 6 19.09 ℃\n",
      "mes 7 23.639296187683286 ℃\n",
      "mes 8 23.40456989247312 ℃\n",
      "mes 9 21.227777777777778 ℃\n",
      "mes 10 14.491176470588234 ℃\n",
      "mes 11 8.365151515151515 ℃\n"
     ]
    }
   ],
   "source": [
    "#Calculando el mes más frio \"Mes con mas frio fue Enero\"\n",
    "for i in range(1,12):\n",
    "    r3=df[df.month==i].TMIN.mean()\n",
    "    print('mes',i,r3,'℃')"
   ]
  },
  {
   "cell_type": "code",
   "execution_count": 49,
   "metadata": {},
   "outputs": [
    {
     "name": "stdout",
     "output_type": "stream",
     "text": [
      "año 1977 6.351315789473682\n",
      "año 1978 6.541846153846152\n",
      "año 1979 6.947790055248619\n",
      "año 1980 7.564207650273218\n",
      "año 1981 6.750564971751408\n",
      "año 1982 6.901791044776124\n",
      "año 1983 6.762275449101797\n",
      "año 1984 6.414328358208956\n",
      "año 1985 nan\n",
      "año 1986 nan\n",
      "año 1987 nan\n",
      "año 1988 nan\n",
      "año 1989 nan\n",
      "año 1990 nan\n",
      "año 1991 nan\n",
      "año 1992 nan\n",
      "año 1993 nan\n",
      "año 1994 nan\n",
      "año 1995 nan\n",
      "año 1996 nan\n",
      "año 1997 nan\n",
      "año 1998 nan\n",
      "año 1999 nan\n",
      "año 2000 nan\n",
      "año 2001 nan\n",
      "año 2002 nan\n",
      "año 2003 nan\n"
     ]
    }
   ],
   "source": [
    "#Calculando los años mas humedos \"El año mas humedo fue en 1980 y el mas seco en 1977\"\n",
    "for i in range(df.year.min(),df.year.max()):\n",
    "    r4=df[df.year==i].EVAP.mean()\n",
    "    print('año',i,r4,)"
   ]
  },
  {
   "cell_type": "code",
   "execution_count": 50,
   "metadata": {},
   "outputs": [
    {
     "name": "stdout",
     "output_type": "stream",
     "text": [
      "mes 1 5.212609970674487 ℃\n",
      "mes 2 5.771704180064309 ℃\n",
      "mes 3 7.873493975903615 ℃\n"
     ]
    }
   ],
   "source": [
    "#Calculando los inviernos mas frios \"El mes mas frio fue Diciembre\"\n",
    "for i in range(1,4):\n",
    "    r5=df[df.month==i].TMIN.mean()\n",
    "    print('mes',i,r5,'℃')\n"
   ]
  },
  {
   "cell_type": "code",
   "execution_count": 51,
   "metadata": {},
   "outputs": [
    {
     "data": {
      "text/plain": [
       "5.184139784946237"
      ]
     },
     "execution_count": 51,
     "metadata": {},
     "output_type": "execute_result"
    }
   ],
   "source": [
    "#Calculando la temperatura en diciembre\n",
    "r51=df[df.month==12].TMIN.mean()\n",
    "r51"
   ]
  },
  {
   "cell_type": "code",
   "execution_count": 52,
   "metadata": {},
   "outputs": [
    {
     "name": "stdout",
     "output_type": "stream",
     "text": [
      "mes 6 39.985 ℃\n",
      "mes 7 40.36135693215339 ℃\n",
      "mes 8 38.892183288409704 ℃\n",
      "mes 9 37.78272980501393 ℃\n"
     ]
    }
   ],
   "source": [
    "#¿Cuáles años han tenido veranos más cálidos? \"El mas mas calido fue Julio\"\n",
    "for i in range(6,10):\n",
    "    r6=df[df.month==i].TMAX.mean()\n",
    "    print('mes',i,r6,'℃')\n"
   ]
  },
  {
   "cell_type": "code",
   "execution_count": 116,
   "metadata": {},
   "outputs": [
    {
     "name": "stdout",
     "output_type": "stream",
     "text": [
      "1984\n",
      "1985\n",
      "1986\n",
      "1987\n",
      "1988\n",
      "1989\n",
      "1990\n",
      "1991\n",
      "1992\n",
      "1993\n",
      "1994\n",
      "1995\n",
      "1996\n",
      "1997\n",
      "1998\n",
      "1999\n",
      "2000\n",
      "2001\n",
      "2002\n",
      "2003\n"
     ]
    }
   ],
   "source": [
    "#¿Cómo ha venido siendo la temperatura mensual promedio en los últimos 20 años? \n",
    "for i in range(df.year.max()-20,df.year.max()):\n",
    "    df7=df[df.year==i]\n",
    "    print(i)"
   ]
  },
  {
   "cell_type": "code",
   "execution_count": 70,
   "metadata": {},
   "outputs": [
    {
     "data": {
      "text/html": [
       "<div>\n",
       "<style>\n",
       "    .dataframe thead tr:only-child th {\n",
       "        text-align: right;\n",
       "    }\n",
       "\n",
       "    .dataframe thead th {\n",
       "        text-align: left;\n",
       "    }\n",
       "\n",
       "    .dataframe tbody tr th {\n",
       "        vertical-align: top;\n",
       "    }\n",
       "</style>\n",
       "<table border=\"1\" class=\"dataframe\">\n",
       "  <thead>\n",
       "    <tr style=\"text-align: right;\">\n",
       "      <th></th>\n",
       "      <th>PRECIP</th>\n",
       "      <th>EVAP</th>\n",
       "      <th>TMAX</th>\n",
       "      <th>TMIN</th>\n",
       "      <th>NFECHA</th>\n",
       "      <th>month</th>\n",
       "      <th>year</th>\n",
       "    </tr>\n",
       "  </thead>\n",
       "  <tbody>\n",
       "    <tr>\n",
       "      <th>2244</th>\n",
       "      <td>0.0</td>\n",
       "      <td>2.0</td>\n",
       "      <td>20.0</td>\n",
       "      <td>4.0</td>\n",
       "      <td>1984-01-01</td>\n",
       "      <td>1</td>\n",
       "      <td>1984</td>\n",
       "    </tr>\n",
       "    <tr>\n",
       "      <th>2245</th>\n",
       "      <td>0.6</td>\n",
       "      <td>2.2</td>\n",
       "      <td>18.0</td>\n",
       "      <td>5.0</td>\n",
       "      <td>1984-01-02</td>\n",
       "      <td>1</td>\n",
       "      <td>1984</td>\n",
       "    </tr>\n",
       "    <tr>\n",
       "      <th>2246</th>\n",
       "      <td>0.0</td>\n",
       "      <td>2.2</td>\n",
       "      <td>24.0</td>\n",
       "      <td>7.0</td>\n",
       "      <td>1984-01-03</td>\n",
       "      <td>1</td>\n",
       "      <td>1984</td>\n",
       "    </tr>\n",
       "    <tr>\n",
       "      <th>2247</th>\n",
       "      <td>22.4</td>\n",
       "      <td>2.4</td>\n",
       "      <td>18.0</td>\n",
       "      <td>8.0</td>\n",
       "      <td>1984-01-04</td>\n",
       "      <td>1</td>\n",
       "      <td>1984</td>\n",
       "    </tr>\n",
       "    <tr>\n",
       "      <th>2248</th>\n",
       "      <td>0.0</td>\n",
       "      <td>2.7</td>\n",
       "      <td>19.0</td>\n",
       "      <td>11.0</td>\n",
       "      <td>1984-01-05</td>\n",
       "      <td>1</td>\n",
       "      <td>1984</td>\n",
       "    </tr>\n",
       "  </tbody>\n",
       "</table>\n",
       "</div>"
      ],
      "text/plain": [
       "      PRECIP  EVAP  TMAX  TMIN     NFECHA  month  year\n",
       "2244     0.0   2.0  20.0   4.0 1984-01-01      1  1984\n",
       "2245     0.6   2.2  18.0   5.0 1984-01-02      1  1984\n",
       "2246     0.0   2.2  24.0   7.0 1984-01-03      1  1984\n",
       "2247    22.4   2.4  18.0   8.0 1984-01-04      1  1984\n",
       "2248     0.0   2.7  19.0  11.0 1984-01-05      1  1984"
      ]
     },
     "execution_count": 70,
     "metadata": {},
     "output_type": "execute_result"
    }
   ],
   "source": [
    "#Calculando la DataFrame de los ultimos 20 años\n",
    "df73 = pd.DataFrame(df.loc[df['year'].isin([1984,2003])])\n",
    "df73.head()"
   ]
  },
  {
   "cell_type": "code",
   "execution_count": 105,
   "metadata": {},
   "outputs": [
    {
     "name": "stdout",
     "output_type": "stream",
     "text": [
      "mes 1 | TMAX 23.42622950819672 ℃ | TMIN 5.669354838709677 ℃\n",
      "mes 2 | TMAX 23.133928571428573 ℃ | TMIN 5.464912280701754 ℃\n",
      "mes 3 | TMAX 26.951612903225808 ℃ | TMIN 7.370967741935484 ℃\n",
      "mes 4 | TMAX 30.333333333333332 ℃ | TMIN 9.016666666666667 ℃\n",
      "mes 5 | TMAX 37.443548387096776 ℃ | TMIN 15.193548387096774 ℃\n",
      "mes 6 | TMAX 39.05 ℃ | TMIN 19.15 ℃\n",
      "mes 7 | TMAX 39.25806451612903 ℃ | TMIN 24.443548387096776 ℃\n",
      "mes 8 | TMAX 38.00806451612903 ℃ | TMIN 23.887096774193548 ℃\n",
      "mes 9 | TMAX 37.025 ℃ | TMIN 21.766666666666666 ℃\n",
      "mes 10 | TMAX 31.28688524590164 ℃ | TMIN 15.596774193548388 ℃\n",
      "mes 11 | TMAX 24.76271186440678 ℃ | TMIN 7.425 ℃\n"
     ]
    },
    {
     "name": "stderr",
     "output_type": "stream",
     "text": [
      "/opt/anaconda3/lib/python3.6/site-packages/ipykernel_launcher.py:2: UserWarning: Boolean Series key will be reindexed to match DataFrame index.\n",
      "  \n",
      "/opt/anaconda3/lib/python3.6/site-packages/ipykernel_launcher.py:3: UserWarning: Boolean Series key will be reindexed to match DataFrame index.\n",
      "  This is separate from the ipykernel package so we can avoid doing imports until\n"
     ]
    }
   ],
   "source": [
    "#CAlculando las temperaturas en los ultimos 20 años\n",
    "for i in range(1,12):\n",
    "    r7a=df73[df.month==i].TMAX.mean()\n",
    "    r7b=df73[df.month==i].TMIN.mean()\n",
    "    print('mes',i,'|','TMAX',r7a,'℃','|','TMIN',r7b,'℃')\n",
    "    "
   ]
  },
  {
   "cell_type": "code",
   "execution_count": 113,
   "metadata": {},
   "outputs": [
    {
     "name": "stdout",
     "output_type": "stream",
     "text": [
      "mes 1 0.4032258064516129\n",
      "mes 2 0.3385964912280702\n",
      "mes 3 0.24193548387096775\n",
      "mes 4 0.0\n",
      "mes 5 0.03225806451612903\n",
      "mes 6 0.155\n",
      "mes 7 2.164516129032258\n",
      "mes 8 4.920967741935483\n",
      "mes 9 1.6516666666666666\n",
      "mes 10 0.6161290322580646\n",
      "mes 11 0.5083333333333333\n",
      "mes 12 1.0693548387096776\n"
     ]
    },
    {
     "name": "stderr",
     "output_type": "stream",
     "text": [
      "/opt/anaconda3/lib/python3.6/site-packages/ipykernel_launcher.py:2: UserWarning: Boolean Series key will be reindexed to match DataFrame index.\n",
      "  \n"
     ]
    }
   ],
   "source": [
    "for i in range(1,13):\n",
    "    r7a=df73[df.month==i].PRECIP.mean()\n",
    "\n",
    "    print('mes',i,r7a)\n",
    "    "
   ]
  },
  {
   "cell_type": "code",
   "execution_count": 125,
   "metadata": {},
   "outputs": [
    {
     "name": "stdout",
     "output_type": "stream",
     "text": [
      "1984 1.1693452380952378\n",
      "1985 nan\n",
      "1986 nan\n",
      "1987 nan\n",
      "1988 nan\n",
      "1989 nan\n",
      "1990 nan\n",
      "1991 nan\n",
      "1992 nan\n",
      "1993 nan\n",
      "1994 nan\n",
      "1995 nan\n",
      "1996 nan\n",
      "1997 nan\n",
      "1998 nan\n",
      "1999 nan\n",
      "2000 nan\n",
      "2001 nan\n",
      "2002 nan\n",
      "2003 0.9619178082191782\n"
     ]
    },
    {
     "name": "stderr",
     "output_type": "stream",
     "text": [
      "/opt/anaconda3/lib/python3.6/site-packages/ipykernel_launcher.py:3: UserWarning: Boolean Series key will be reindexed to match DataFrame index.\n",
      "  This is separate from the ipykernel package so we can avoid doing imports until\n"
     ]
    }
   ],
   "source": [
    "#¿Qué ha pasado con la precipitación en los últimos 20 años de datos? \n",
    "for i in range(1984,2004):\n",
    "    df8=df73[df.year==i].PRECIP.mean()\n",
    "    print(i,df8)"
   ]
  },
  {
   "cell_type": "code",
   "execution_count": null,
   "metadata": {},
   "outputs": [],
   "source": []
  }
 ],
 "metadata": {
  "kernelspec": {
   "display_name": "Python 3",
   "language": "python",
   "name": "python3"
  },
  "language_info": {
   "codemirror_mode": {
    "name": "ipython",
    "version": 3
   },
   "file_extension": ".py",
   "mimetype": "text/x-python",
   "name": "python",
   "nbconvert_exporter": "python",
   "pygments_lexer": "ipython3",
   "version": "3.6.3"
  }
 },
 "nbformat": 4,
 "nbformat_minor": 2
}
