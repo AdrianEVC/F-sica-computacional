{
 "cells": [
  {
   "cell_type": "code",
   "execution_count": 1,
   "metadata": {},
   "outputs": [],
   "source": [
    "#Importamos las bibliotecas que usameros\n",
    "import pandas as pd\n",
    "import numpy as np\n",
    "import matplotlib as plt"
   ]
  },
  {
   "cell_type": "code",
   "execution_count": 7,
   "metadata": {},
   "outputs": [
    {
     "data": {
      "text/html": [
       "<div>\n",
       "<style scoped>\n",
       "    .dataframe tbody tr th:only-of-type {\n",
       "        vertical-align: middle;\n",
       "    }\n",
       "\n",
       "    .dataframe tbody tr th {\n",
       "        vertical-align: top;\n",
       "    }\n",
       "\n",
       "    .dataframe thead th {\n",
       "        text-align: right;\n",
       "    }\n",
       "</style>\n",
       "<table border=\"1\" class=\"dataframe\">\n",
       "  <thead>\n",
       "    <tr style=\"text-align: right;\">\n",
       "      <th></th>\n",
       "      <th>NFECHA</th>\n",
       "      <th>PRECIP</th>\n",
       "      <th>EVAP</th>\n",
       "      <th>TMAX</th>\n",
       "      <th>TMIN</th>\n",
       "    </tr>\n",
       "  </thead>\n",
       "  <tbody>\n",
       "    <tr>\n",
       "      <th>0</th>\n",
       "      <td>01/08/1977</td>\n",
       "      <td>0</td>\n",
       "      <td>11.5</td>\n",
       "      <td>40</td>\n",
       "      <td>27</td>\n",
       "    </tr>\n",
       "    <tr>\n",
       "      <th>1</th>\n",
       "      <td>02/08/1977</td>\n",
       "      <td>0</td>\n",
       "      <td>10.9</td>\n",
       "      <td>39</td>\n",
       "      <td>27</td>\n",
       "    </tr>\n",
       "    <tr>\n",
       "      <th>2</th>\n",
       "      <td>03/08/1977</td>\n",
       "      <td>0</td>\n",
       "      <td>11.5</td>\n",
       "      <td>42</td>\n",
       "      <td>25</td>\n",
       "    </tr>\n",
       "    <tr>\n",
       "      <th>3</th>\n",
       "      <td>04/08/1977</td>\n",
       "      <td>0</td>\n",
       "      <td>11.5</td>\n",
       "      <td>43</td>\n",
       "      <td>24</td>\n",
       "    </tr>\n",
       "    <tr>\n",
       "      <th>4</th>\n",
       "      <td>05/08/1977</td>\n",
       "      <td>0</td>\n",
       "      <td>10.8</td>\n",
       "      <td>43</td>\n",
       "      <td>24</td>\n",
       "    </tr>\n",
       "  </tbody>\n",
       "</table>\n",
       "</div>"
      ],
      "text/plain": [
       "       NFECHA PRECIP  EVAP TMAX TMIN\n",
       "0  01/08/1977      0  11.5   40   27\n",
       "1  02/08/1977      0  10.9   39   27\n",
       "2  03/08/1977      0  11.5   42   25\n",
       "3  04/08/1977      0  11.5   43   24\n",
       "4  05/08/1977      0  10.8   43   24"
      ]
     },
     "execution_count": 7,
     "metadata": {},
     "output_type": "execute_result"
    }
   ],
   "source": [
    "#Cargamos nuestra base de datos con la que trabajaremos y le cambiamos algunas propiedades\n",
    "df0= pd.read_csv('caborca.txt', skiprows=20, skipfooter=1, sep='\\s+',header=None, names=[\"NFECHA\",\"PRECIP\",\"EVAP\",\"TMAX\",\"TMIN\"], engine='python')\n",
    "df0.head()"
   ]
  },
  {
   "cell_type": "code",
   "execution_count": 8,
   "metadata": {},
   "outputs": [],
   "source": [
    "#Le damos estructura a los datos\n",
    "df = pd.DataFrame(df0)"
   ]
  },
  {
   "cell_type": "code",
   "execution_count": 9,
   "metadata": {},
   "outputs": [
    {
     "data": {
      "text/plain": [
       "NFECHA    object\n",
       "PRECIP    object\n",
       "EVAP      object\n",
       "TMAX      object\n",
       "TMIN      object\n",
       "dtype: object"
      ]
     },
     "execution_count": 9,
     "metadata": {},
     "output_type": "execute_result"
    }
   ],
   "source": [
    "#Tipos de datos que Pandas decteca en nuestros datos\n",
    "df.dtypes"
   ]
  },
  {
   "cell_type": "code",
   "execution_count": 5,
   "metadata": {},
   "outputs": [],
   "source": [
    "#Cambiamos los valores nulos a NaN\n",
    "df['PRECIP']=df['PRECIP'].str.replace('Nulo','NaN').astype(np.float64)\n",
    "df['EVAP']=df['EVAP'].str.replace('Nulo','NaN').astype(np.float64)\n",
    "df['TMAX']=df['TMAX'].str.replace('Nulo','NaN').astype(np.float64)\n",
    "df['TMIN']=df['TMIN'].str.replace('Nulo','NaN').astype(np.float64)"
   ]
  },
  {
   "cell_type": "code",
   "execution_count": 11,
   "metadata": {},
   "outputs": [
    {
     "data": {
      "text/html": [
       "<div>\n",
       "<style scoped>\n",
       "    .dataframe tbody tr th:only-of-type {\n",
       "        vertical-align: middle;\n",
       "    }\n",
       "\n",
       "    .dataframe tbody tr th {\n",
       "        vertical-align: top;\n",
       "    }\n",
       "\n",
       "    .dataframe thead th {\n",
       "        text-align: right;\n",
       "    }\n",
       "</style>\n",
       "<table border=\"1\" class=\"dataframe\">\n",
       "  <thead>\n",
       "    <tr style=\"text-align: right;\">\n",
       "      <th></th>\n",
       "      <th>PRECIP</th>\n",
       "      <th>EVAP</th>\n",
       "      <th>TMAX</th>\n",
       "      <th>TMIN</th>\n",
       "      <th>FECHA</th>\n",
       "    </tr>\n",
       "  </thead>\n",
       "  <tbody>\n",
       "    <tr>\n",
       "      <th>0</th>\n",
       "      <td>0</td>\n",
       "      <td>11.5</td>\n",
       "      <td>40</td>\n",
       "      <td>27</td>\n",
       "      <td>1977-08-01</td>\n",
       "    </tr>\n",
       "    <tr>\n",
       "      <th>1</th>\n",
       "      <td>0</td>\n",
       "      <td>10.9</td>\n",
       "      <td>39</td>\n",
       "      <td>27</td>\n",
       "      <td>1977-08-02</td>\n",
       "    </tr>\n",
       "    <tr>\n",
       "      <th>2</th>\n",
       "      <td>0</td>\n",
       "      <td>11.5</td>\n",
       "      <td>42</td>\n",
       "      <td>25</td>\n",
       "      <td>1977-08-03</td>\n",
       "    </tr>\n",
       "    <tr>\n",
       "      <th>3</th>\n",
       "      <td>0</td>\n",
       "      <td>11.5</td>\n",
       "      <td>43</td>\n",
       "      <td>24</td>\n",
       "      <td>1977-08-04</td>\n",
       "    </tr>\n",
       "    <tr>\n",
       "      <th>4</th>\n",
       "      <td>0</td>\n",
       "      <td>10.8</td>\n",
       "      <td>43</td>\n",
       "      <td>24</td>\n",
       "      <td>1977-08-05</td>\n",
       "    </tr>\n",
       "  </tbody>\n",
       "</table>\n",
       "</div>"
      ],
      "text/plain": [
       "  PRECIP  EVAP TMAX TMIN      FECHA\n",
       "0      0  11.5   40   27 1977-08-01\n",
       "1      0  10.9   39   27 1977-08-02\n",
       "2      0  11.5   42   25 1977-08-03\n",
       "3      0  11.5   43   24 1977-08-04\n",
       "4      0  10.8   43   24 1977-08-05"
      ]
     },
     "execution_count": 11,
     "metadata": {},
     "output_type": "execute_result"
    }
   ],
   "source": [
    "#Cambiamos el tipo de fecha: de object a Time\n",
    "df['FECHA']=pd.to_datetime(df.apply(lambda x: x['NFECHA'],1), dayfirst=True)\n",
    "df=df.drop(['NFECHA'],1)\n",
    "df.head()"
   ]
  },
  {
   "cell_type": "code",
   "execution_count": null,
   "metadata": {},
   "outputs": [],
   "source": []
  }
 ],
 "metadata": {
  "kernelspec": {
   "display_name": "Python 3",
   "language": "python",
   "name": "python3"
  },
  "language_info": {
   "codemirror_mode": {
    "name": "ipython",
    "version": 3
   },
   "file_extension": ".py",
   "mimetype": "text/x-python",
   "name": "python",
   "nbconvert_exporter": "python",
   "pygments_lexer": "ipython3",
   "version": "3.6.5"
  }
 },
 "nbformat": 4,
 "nbformat_minor": 2
}
