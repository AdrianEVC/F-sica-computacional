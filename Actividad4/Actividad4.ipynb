{
 "cells": [
  {
   "cell_type": "code",
   "execution_count": 1,
   "metadata": {},
   "outputs": [],
   "source": [
    "#Importamos las bibliotecas que usameros\n",
    "import pandas as pd\n",
    "import numpy as np\n",
    "import matplotlib as plt\n",
    "import matplotlib.pyplot as plt\n",
    "#import plotly.tools as tls\n",
    "#import plotly.plotly as py\n",
    "\n"
   ]
  },
  {
   "cell_type": "code",
   "execution_count": 2,
   "metadata": {},
   "outputs": [
    {
     "data": {
      "text/html": [
       "<div>\n",
       "<style>\n",
       "    .dataframe thead tr:only-child th {\n",
       "        text-align: right;\n",
       "    }\n",
       "\n",
       "    .dataframe thead th {\n",
       "        text-align: left;\n",
       "    }\n",
       "\n",
       "    .dataframe tbody tr th {\n",
       "        vertical-align: top;\n",
       "    }\n",
       "</style>\n",
       "<table border=\"1\" class=\"dataframe\">\n",
       "  <thead>\n",
       "    <tr style=\"text-align: right;\">\n",
       "      <th></th>\n",
       "      <th>NFECHA</th>\n",
       "      <th>PRECIP</th>\n",
       "      <th>EVAP</th>\n",
       "      <th>TMAX</th>\n",
       "      <th>TMIN</th>\n",
       "    </tr>\n",
       "  </thead>\n",
       "  <tbody>\n",
       "    <tr>\n",
       "      <th>0</th>\n",
       "      <td>01/08/1977</td>\n",
       "      <td>0</td>\n",
       "      <td>11.5</td>\n",
       "      <td>40</td>\n",
       "      <td>27</td>\n",
       "    </tr>\n",
       "    <tr>\n",
       "      <th>1</th>\n",
       "      <td>02/08/1977</td>\n",
       "      <td>0</td>\n",
       "      <td>10.9</td>\n",
       "      <td>39</td>\n",
       "      <td>27</td>\n",
       "    </tr>\n",
       "    <tr>\n",
       "      <th>2</th>\n",
       "      <td>03/08/1977</td>\n",
       "      <td>0</td>\n",
       "      <td>11.5</td>\n",
       "      <td>42</td>\n",
       "      <td>25</td>\n",
       "    </tr>\n",
       "    <tr>\n",
       "      <th>3</th>\n",
       "      <td>04/08/1977</td>\n",
       "      <td>0</td>\n",
       "      <td>11.5</td>\n",
       "      <td>43</td>\n",
       "      <td>24</td>\n",
       "    </tr>\n",
       "    <tr>\n",
       "      <th>4</th>\n",
       "      <td>05/08/1977</td>\n",
       "      <td>0</td>\n",
       "      <td>10.8</td>\n",
       "      <td>43</td>\n",
       "      <td>24</td>\n",
       "    </tr>\n",
       "  </tbody>\n",
       "</table>\n",
       "</div>"
      ],
      "text/plain": [
       "       NFECHA PRECIP  EVAP TMAX TMIN\n",
       "0  01/08/1977      0  11.5   40   27\n",
       "1  02/08/1977      0  10.9   39   27\n",
       "2  03/08/1977      0  11.5   42   25\n",
       "3  04/08/1977      0  11.5   43   24\n",
       "4  05/08/1977      0  10.8   43   24"
      ]
     },
     "execution_count": 2,
     "metadata": {},
     "output_type": "execute_result"
    }
   ],
   "source": [
    "#Cargamos nuestra base de datos con la que trabajaremos y le cambiamos algunas propiedades\n",
    "df0= pd.read_csv('caborca.txt', skiprows=20, skipfooter=1, sep='\\s+',header=None, names=[\"NFECHA\",\"PRECIP\",\"EVAP\",\"TMAX\",\"TMIN\"], engine='python')\n",
    "df0.head()"
   ]
  },
  {
   "cell_type": "code",
   "execution_count": 3,
   "metadata": {},
   "outputs": [],
   "source": [
    "#Le damos estructura a los datos\n",
    "df = pd.DataFrame(df0)"
   ]
  },
  {
   "cell_type": "code",
   "execution_count": 4,
   "metadata": {},
   "outputs": [
    {
     "data": {
      "text/plain": [
       "NFECHA    object\n",
       "PRECIP    object\n",
       "EVAP      object\n",
       "TMAX      object\n",
       "TMIN      object\n",
       "dtype: object"
      ]
     },
     "execution_count": 4,
     "metadata": {},
     "output_type": "execute_result"
    }
   ],
   "source": [
    "#Tipos de datos que Pandas decteca en nuestros datos\n",
    "df.dtypes"
   ]
  },
  {
   "cell_type": "code",
   "execution_count": 5,
   "metadata": {},
   "outputs": [],
   "source": [
    "#Cambiamos los valores nulos a NaN\n",
    "df['PRECIP']=df['PRECIP'].str.replace('Nulo','NaN').astype(np.float64)\n",
    "df['EVAP']=df['EVAP'].str.replace('Nulo','NaN').astype(np.float64)\n",
    "df['TMAX']=df['TMAX'].str.replace('Nulo','NaN').astype(np.float64)\n",
    "df['TMIN']=df['TMIN'].str.replace('Nulo','NaN').astype(np.float64)"
   ]
  },
  {
   "cell_type": "code",
   "execution_count": 6,
   "metadata": {},
   "outputs": [
    {
     "data": {
      "text/html": [
       "<div>\n",
       "<style>\n",
       "    .dataframe thead tr:only-child th {\n",
       "        text-align: right;\n",
       "    }\n",
       "\n",
       "    .dataframe thead th {\n",
       "        text-align: left;\n",
       "    }\n",
       "\n",
       "    .dataframe tbody tr th {\n",
       "        vertical-align: top;\n",
       "    }\n",
       "</style>\n",
       "<table border=\"1\" class=\"dataframe\">\n",
       "  <thead>\n",
       "    <tr style=\"text-align: right;\">\n",
       "      <th></th>\n",
       "      <th>PRECIP</th>\n",
       "      <th>EVAP</th>\n",
       "      <th>TMAX</th>\n",
       "      <th>TMIN</th>\n",
       "      <th>FECHA</th>\n",
       "    </tr>\n",
       "  </thead>\n",
       "  <tbody>\n",
       "    <tr>\n",
       "      <th>0</th>\n",
       "      <td>0.0</td>\n",
       "      <td>11.5</td>\n",
       "      <td>40.0</td>\n",
       "      <td>27.0</td>\n",
       "      <td>1977-08-01</td>\n",
       "    </tr>\n",
       "    <tr>\n",
       "      <th>1</th>\n",
       "      <td>0.0</td>\n",
       "      <td>10.9</td>\n",
       "      <td>39.0</td>\n",
       "      <td>27.0</td>\n",
       "      <td>1977-08-02</td>\n",
       "    </tr>\n",
       "    <tr>\n",
       "      <th>2</th>\n",
       "      <td>0.0</td>\n",
       "      <td>11.5</td>\n",
       "      <td>42.0</td>\n",
       "      <td>25.0</td>\n",
       "      <td>1977-08-03</td>\n",
       "    </tr>\n",
       "    <tr>\n",
       "      <th>3</th>\n",
       "      <td>0.0</td>\n",
       "      <td>11.5</td>\n",
       "      <td>43.0</td>\n",
       "      <td>24.0</td>\n",
       "      <td>1977-08-04</td>\n",
       "    </tr>\n",
       "    <tr>\n",
       "      <th>4</th>\n",
       "      <td>0.0</td>\n",
       "      <td>10.8</td>\n",
       "      <td>43.0</td>\n",
       "      <td>24.0</td>\n",
       "      <td>1977-08-05</td>\n",
       "    </tr>\n",
       "  </tbody>\n",
       "</table>\n",
       "</div>"
      ],
      "text/plain": [
       "   PRECIP  EVAP  TMAX  TMIN      FECHA\n",
       "0     0.0  11.5  40.0  27.0 1977-08-01\n",
       "1     0.0  10.9  39.0  27.0 1977-08-02\n",
       "2     0.0  11.5  42.0  25.0 1977-08-03\n",
       "3     0.0  11.5  43.0  24.0 1977-08-04\n",
       "4     0.0  10.8  43.0  24.0 1977-08-05"
      ]
     },
     "execution_count": 6,
     "metadata": {},
     "output_type": "execute_result"
    }
   ],
   "source": [
    "#Cambiamos el tipo de fecha: de object a Time\n",
    "df['FECHA']=pd.to_datetime(df.apply(lambda x: x['NFECHA'],1), dayfirst=True)\n",
    "df=df.drop(['NFECHA'],1)\n",
    "df.head()"
   ]
  },
  {
   "cell_type": "code",
   "execution_count": 7,
   "metadata": {},
   "outputs": [
    {
     "data": {
      "text/plain": [
       "PRECIP           float64\n",
       "EVAP             float64\n",
       "TMAX             float64\n",
       "TMIN             float64\n",
       "FECHA     datetime64[ns]\n",
       "dtype: object"
      ]
     },
     "execution_count": 7,
     "metadata": {},
     "output_type": "execute_result"
    }
   ],
   "source": [
    "df.dtypes"
   ]
  },
  {
   "cell_type": "code",
   "execution_count": 8,
   "metadata": {},
   "outputs": [
    {
     "data": {
      "text/html": [
       "<div>\n",
       "<style>\n",
       "    .dataframe thead tr:only-child th {\n",
       "        text-align: right;\n",
       "    }\n",
       "\n",
       "    .dataframe thead th {\n",
       "        text-align: left;\n",
       "    }\n",
       "\n",
       "    .dataframe tbody tr th {\n",
       "        vertical-align: top;\n",
       "    }\n",
       "</style>\n",
       "<table border=\"1\" class=\"dataframe\">\n",
       "  <thead>\n",
       "    <tr style=\"text-align: right;\">\n",
       "      <th></th>\n",
       "      <th>PRECIP</th>\n",
       "      <th>EVAP</th>\n",
       "      <th>TMAX</th>\n",
       "      <th>TMIN</th>\n",
       "      <th>FECHA</th>\n",
       "      <th>MONTH</th>\n",
       "      <th>YEAR</th>\n",
       "    </tr>\n",
       "  </thead>\n",
       "  <tbody>\n",
       "    <tr>\n",
       "      <th>0</th>\n",
       "      <td>0.0</td>\n",
       "      <td>11.5</td>\n",
       "      <td>40.0</td>\n",
       "      <td>27.0</td>\n",
       "      <td>1977-08-01</td>\n",
       "      <td>8</td>\n",
       "      <td>1977</td>\n",
       "    </tr>\n",
       "    <tr>\n",
       "      <th>1</th>\n",
       "      <td>0.0</td>\n",
       "      <td>10.9</td>\n",
       "      <td>39.0</td>\n",
       "      <td>27.0</td>\n",
       "      <td>1977-08-02</td>\n",
       "      <td>8</td>\n",
       "      <td>1977</td>\n",
       "    </tr>\n",
       "    <tr>\n",
       "      <th>2</th>\n",
       "      <td>0.0</td>\n",
       "      <td>11.5</td>\n",
       "      <td>42.0</td>\n",
       "      <td>25.0</td>\n",
       "      <td>1977-08-03</td>\n",
       "      <td>8</td>\n",
       "      <td>1977</td>\n",
       "    </tr>\n",
       "    <tr>\n",
       "      <th>3</th>\n",
       "      <td>0.0</td>\n",
       "      <td>11.5</td>\n",
       "      <td>43.0</td>\n",
       "      <td>24.0</td>\n",
       "      <td>1977-08-04</td>\n",
       "      <td>8</td>\n",
       "      <td>1977</td>\n",
       "    </tr>\n",
       "    <tr>\n",
       "      <th>4</th>\n",
       "      <td>0.0</td>\n",
       "      <td>10.8</td>\n",
       "      <td>43.0</td>\n",
       "      <td>24.0</td>\n",
       "      <td>1977-08-05</td>\n",
       "      <td>8</td>\n",
       "      <td>1977</td>\n",
       "    </tr>\n",
       "  </tbody>\n",
       "</table>\n",
       "</div>"
      ],
      "text/plain": [
       "   PRECIP  EVAP  TMAX  TMIN      FECHA  MONTH  YEAR\n",
       "0     0.0  11.5  40.0  27.0 1977-08-01      8  1977\n",
       "1     0.0  10.9  39.0  27.0 1977-08-02      8  1977\n",
       "2     0.0  11.5  42.0  25.0 1977-08-03      8  1977\n",
       "3     0.0  11.5  43.0  24.0 1977-08-04      8  1977\n",
       "4     0.0  10.8  43.0  24.0 1977-08-05      8  1977"
      ]
     },
     "execution_count": 8,
     "metadata": {},
     "output_type": "execute_result"
    }
   ],
   "source": [
    "#Creando nuevas columnas para los meses y los años\n",
    "df['MONTH']=df['FECHA'].dt.month\n",
    "df['YEAR']=df['FECHA'].dt.year\n",
    "df.head()"
   ]
  },
  {
   "cell_type": "code",
   "execution_count": 9,
   "metadata": {},
   "outputs": [
    {
     "data": {
      "text/plain": [
       "12"
      ]
     },
     "execution_count": 9,
     "metadata": {},
     "output_type": "execute_result"
    }
   ],
   "source": [
    "#Calcululando el numero de años en los que se tienen registros en el DataFrame\n",
    "n=df['FECHA'].dt.year.unique()\n",
    "len(n)"
   ]
  },
  {
   "cell_type": "code",
   "execution_count": 10,
   "metadata": {},
   "outputs": [
    {
     "name": "stdout",
     "output_type": "stream",
     "text": [
      "ENE 23.833333333333332 mm\n",
      "FEB 11.799999999999999 mm\n",
      "MAR 16.566666666666666 mm\n",
      "ABR 5.6000000000000005 mm\n",
      "MAY 0.9833333333333334 mm\n",
      "JUN 1.2333333333333334 mm\n",
      "JUL 55.87499999999999 mm\n",
      "AGO 72.19166666666668 mm\n",
      "SEP 28.23333333333333 mm\n",
      "OCT 16.483333333333338 mm\n",
      "NOV 20.241666666666664 mm\n",
      "DIC 33.41666666666668 mm\n"
     ]
    }
   ],
   "source": [
    "#Calculando los mese con mas lluvias \n",
    "r1=df[df.MONTH==1].PRECIP.sum()/len(n)\n",
    "print(\"ENE\",r1,\"mm\")\n",
    "r2=df[df.MONTH==2].PRECIP.sum()/len(n)\n",
    "print(\"FEB\",r2,\"mm\")\n",
    "r3=df[df.MONTH==3].PRECIP.sum()/len(n)\n",
    "print(\"MAR\",r3,\"mm\")\n",
    "r4=df[df.MONTH==4].PRECIP.sum()/len(n)\n",
    "print(\"ABR\",r4,\"mm\")\n",
    "r5=df[df.MONTH==5].PRECIP.sum()/len(n)\n",
    "print(\"MAY\",r5,\"mm\")\n",
    "r6=df[df.MONTH==6].PRECIP.sum()/len(n)\n",
    "print(\"JUN\",r6,\"mm\")\n",
    "r7=df[df.MONTH==7].PRECIP.sum()/len(n)\n",
    "print(\"JUL\",r7,\"mm\")\n",
    "r8=df[df.MONTH==8].PRECIP.sum()/len(n)\n",
    "print(\"AGO\",r8,\"mm\")\n",
    "r9=df[df.MONTH==9].PRECIP.sum()/len(n)\n",
    "print(\"SEP\",r9,\"mm\")\n",
    "r10=df[df.MONTH==10].PRECIP.sum()/len(n)\n",
    "print(\"OCT\",r10,\"mm\")\n",
    "r11=df[df.MONTH==11].PRECIP.sum()/len(n)\n",
    "print(\"NOV\",r11,\"mm\")\n",
    "r12=df[df.MONTH==12].PRECIP.sum()/len(n)\n",
    "print(\"DIC\",r12,\"mm\")\n",
    "\n"
   ]
  },
  {
   "cell_type": "code",
   "execution_count": 15,
   "metadata": {},
   "outputs": [
    {
     "ename": "NameError",
     "evalue": "name 'tls' is not defined",
     "output_type": "error",
     "traceback": [
      "\u001b[0;31m---------------------------------------------------------------------------\u001b[0m",
      "\u001b[0;31mNameError\u001b[0m                                 Traceback (most recent call last)",
      "\u001b[0;32m<ipython-input-15-2b48dfd38c3b>\u001b[0m in \u001b[0;36m<module>\u001b[0;34m()\u001b[0m\n\u001b[1;32m     13\u001b[0m \u001b[0;34m\u001b[0m\u001b[0m\n\u001b[1;32m     14\u001b[0m \u001b[0mfig\u001b[0m \u001b[0;34m=\u001b[0m \u001b[0mplt\u001b[0m\u001b[0;34m.\u001b[0m\u001b[0mgcf\u001b[0m\u001b[0;34m(\u001b[0m\u001b[0;34m)\u001b[0m\u001b[0;34m\u001b[0m\u001b[0m\n\u001b[0;32m---> 15\u001b[0;31m \u001b[0mplotly_fig\u001b[0m \u001b[0;34m=\u001b[0m \u001b[0mtls\u001b[0m\u001b[0;34m.\u001b[0m\u001b[0mmpl_to_plotly\u001b[0m\u001b[0;34m(\u001b[0m\u001b[0mfig\u001b[0m\u001b[0;34m)\u001b[0m\u001b[0;34m\u001b[0m\u001b[0m\n\u001b[0m\u001b[1;32m     16\u001b[0m \u001b[0mpy\u001b[0m\u001b[0;34m.\u001b[0m\u001b[0miplot\u001b[0m\u001b[0;34m(\u001b[0m\u001b[0mplotly_fig\u001b[0m\u001b[0;34m,\u001b[0m \u001b[0mfilename\u001b[0m\u001b[0;34m=\u001b[0m\u001b[0;34m'Presipitacón por mes'\u001b[0m\u001b[0;34m)\u001b[0m\u001b[0;34m\u001b[0m\u001b[0m\n",
      "\u001b[0;31mNameError\u001b[0m: name 'tls' is not defined"
     ]
    }
   ],
   "source": [
    "#Gráfica de las precipitacónes por mes \n",
    "\n",
    "y = [r1, r2, r3, r4, r5, r6, r7, r8, r9, r10, r11, r12]\n",
    "N = len(y)\n",
    "#x = ('ENE', 'FEB', 'MAR', 'ABR', 'MAY', 'JUN', 'JUL', 'AGO', 'SEP', 'OCT', 'NOV', 'DIC')\n",
    "x = (1,2,3,4,5,6,7,8,9,10,11,12)\n",
    "\n",
    "width = 1/1.15\n",
    "plt.bar(x, y, width, color=\"red\")\n",
    "plt.ylabel('Precipitación en mm')\n",
    "plt.xlabel('Meses')\n",
    "plt.title('Precipitación acumulada por mes')\n",
    "\n",
    "fig = plt.gcf()\n",
    "plotly_fig = tls.mpl_to_plotly(fig)\n",
    "py.iplot(plotly_fig, filename='Presipitacón por mes')"
   ]
  },
  {
   "cell_type": "code",
   "execution_count": 13,
   "metadata": {},
   "outputs": [
    {
     "data": {
      "text/html": [
       "<div>\n",
       "<style>\n",
       "    .dataframe thead tr:only-child th {\n",
       "        text-align: right;\n",
       "    }\n",
       "\n",
       "    .dataframe thead th {\n",
       "        text-align: left;\n",
       "    }\n",
       "\n",
       "    .dataframe tbody tr th {\n",
       "        vertical-align: top;\n",
       "    }\n",
       "</style>\n",
       "<table border=\"1\" class=\"dataframe\">\n",
       "  <thead>\n",
       "    <tr style=\"text-align: right;\">\n",
       "      <th></th>\n",
       "      <th>AÑO</th>\n",
       "      <th>PRECIP_TOTAL</th>\n",
       "    </tr>\n",
       "  </thead>\n",
       "  <tbody>\n",
       "    <tr>\n",
       "      <th>0</th>\n",
       "      <td>1977</td>\n",
       "      <td>125.3</td>\n",
       "    </tr>\n",
       "    <tr>\n",
       "      <th>1</th>\n",
       "      <td>1978</td>\n",
       "      <td>297.3</td>\n",
       "    </tr>\n",
       "    <tr>\n",
       "      <th>2</th>\n",
       "      <td>1979</td>\n",
       "      <td>222.8</td>\n",
       "    </tr>\n",
       "    <tr>\n",
       "      <th>3</th>\n",
       "      <td>1980</td>\n",
       "      <td>70.2</td>\n",
       "    </tr>\n",
       "    <tr>\n",
       "      <th>4</th>\n",
       "      <td>1981</td>\n",
       "      <td>210.7</td>\n",
       "    </tr>\n",
       "  </tbody>\n",
       "</table>\n",
       "</div>"
      ],
      "text/plain": [
       "    AÑO  PRECIP_TOTAL\n",
       "0  1977         125.3\n",
       "1  1978         297.3\n",
       "2  1979         222.8\n",
       "3  1980          70.2\n",
       "4  1981         210.7"
      ]
     },
     "execution_count": 13,
     "metadata": {},
     "output_type": "execute_result"
    }
   ],
   "source": [
    "#Calculando la precipitación por año \n",
    "init = df.YEAR.min()\n",
    "AÑO = [init + i for i in range(0,28)]\n",
    "AÑOS = [ df[df.YEAR==(init + i)].PRECIP.sum() for i in range(0,28)]\n",
    "\n",
    "d = {'AÑO': AÑO, 'PRECIP_TOTAL': AÑOS}\n",
    "df2 = pd.DataFrame(data=d)\n",
    "df2.head()\n",
    "\n"
   ]
  },
  {
   "cell_type": "code",
   "execution_count": 14,
   "metadata": {},
   "outputs": [
    {
     "data": {
      "image/png": "[encoded data removed]",
      "text/plain": [
       "<matplotlib.figure.Figure at 0x7f80e9e5c780>"
      ]
     },
     "metadata": {},
     "output_type": "display_data"
    }
   ],
   "source": [
    "#Creando la gráfica de la precipitacón por año\n",
    "date = AÑO\n",
    "N = np.arange(len(date))\n",
    "PRECIPIT= AÑOS\n",
    " \n",
    "plt.bar(N, PRECIPIT,  width=0.5,align='center',color='red')\n",
    "plt.xticks(N, date, size = 'small', color = 'black', rotation = 45)\n",
    "plt.ylabel('Precipitación en mm')\n",
    "plt.title('Precipitación total por año')\n",
    "plt.show()"
   ]
  },
  {
   "cell_type": "code",
   "execution_count": null,
   "metadata": {},
   "outputs": [],
   "source": [
    "#Calculando los meses más calidos \n",
    "for i in range(1,12):\n",
    "    tmax=df[df.MONTH==i].TMAX.mean()\n",
    "    print('mes',i,tmax,'℃')"
   ]
  },
  {
   "cell_type": "code",
   "execution_count": null,
   "metadata": {},
   "outputs": [],
   "source": [
    "#Calculando los meses más frio \n",
    "for i in range(1,12):\n",
    "    tmin=df[df.MONTH==i].TMIN.mean()\n",
    "    print('mes',i,tmin,'℃')"
   ]
  },
  {
   "cell_type": "code",
   "execution_count": null,
   "metadata": {},
   "outputs": [],
   "source": [
    "#Gráfica de temperatura máxima por mes\n",
    "import seaborn as sns\n",
    "w1 = sns.boxplot(x=\"MONTH\", y=\"TMAX\", data=df)\n",
    "plt.title(\"Gráfica de temperatura máxima por mes\")\n",
    "plt.ylabel (\"Temperatura en °C\")\n",
    "plt.show()\n"
   ]
  },
  {
   "cell_type": "code",
   "execution_count": null,
   "metadata": {},
   "outputs": [],
   "source": [
    "#Gráfica de temperatura mínima por mes\n",
    "w2 = sns.boxplot(x=\"MONTH\", y=\"TMIN\", data=df)\n",
    "plt.title(\"Gráfica de temperatura mínima por mes\")\n",
    "plt.ylabel (\"Temperatura en °C\")\n",
    "plt.show()\n"
   ]
  },
  {
   "cell_type": "code",
   "execution_count": null,
   "metadata": {},
   "outputs": [],
   "source": [
    "#Gráfica de temperatura máxima por año\n",
    "w3 = sns.boxplot(x=\"YEAR\", y=\"TMAX\", data=df)\n",
    "plt.xticks(rotation=45)\n",
    "plt.title(\"Temperatura máxima por año\")\n",
    "plt.ylabel (\"Temperatura en °C\")\n",
    "plt.show()"
   ]
  },
  {
   "cell_type": "code",
   "execution_count": null,
   "metadata": {},
   "outputs": [],
   "source": [
    "#Gráfica de temperatura mínima por año\n",
    "w4 = sns.boxplot(x=\"YEAR\", y=\"TMIN\", data=df)\n",
    "plt.xticks(rotation=45)\n",
    "plt.title(\"Temperatura mínima por año\")\n",
    "plt.ylabel (\"Temperatura en °C\")\n",
    "plt.show()"
   ]
  },
  {
   "cell_type": "code",
   "execution_count": null,
   "metadata": {},
   "outputs": [],
   "source": []
  },
  {
   "cell_type": "code",
   "execution_count": null,
   "metadata": {},
   "outputs": [],
   "source": [
    "for i in range(1,4):\n",
    "    r5=df[df.MONTH==i].TMIN.mean()\n",
    "    print('mes',i,r5,'℃')"
   ]
  },
  {
   "cell_type": "code",
   "execution_count": null,
   "metadata": {},
   "outputs": [],
   "source": [
    "#Calculando la temperatura min de los meses de invierno \n",
    "i12 = df[df.MONTH==12].TMIN.mean()\n",
    "print(\"MES\",12,\"TEM\",i12,\"℃\")\n",
    "i1 = df[df.MONTH==1].TMIN.mean()\n",
    "print(\"MES\",1,\"TEM\",i1,\"℃\")\n",
    "i2 = df[df.MONTH==2].TMIN.mean()\n",
    "print(\"MES\",2,\"TEM\",i2,\"℃\")\n",
    "i3 = df[df.MONTH==3].TMIN.mean()\n",
    "print(\"MES\",3,\"TEM\",i3,\"℃\")"
   ]
  },
  {
   "cell_type": "code",
   "execution_count": null,
   "metadata": {},
   "outputs": [],
   "source": [
    "#Calculando la temperatura min de los meses de invierno \n",
    "v6 = df[df.MONTH==6].TMAX.mean()\n",
    "print(\"MES\",6,\"TEM\",v6,\"℃\")\n",
    "v7 = df[df.MONTH==7].TMAX.mean()\n",
    "print(\"MES\",7,\"TEM\",v7,\"℃\")\n",
    "v8 = df[df.MONTH==8].TMAX.mean()\n",
    "print(\"MES\",8,\"TEM\",v8,\"℃\")\n",
    "v9 = df[df.MONTH==9].TMAX.mean()\n",
    "print(\"MES\",9,\"TEM\",v9,\"℃\")"
   ]
  },
  {
   "cell_type": "code",
   "execution_count": null,
   "metadata": {},
   "outputs": [],
   "source": [
    "#Calculando el promedio de temperatura máxima por año\n",
    "init = df.YEAR.min()\n",
    "AÑO = [init + i for i in range(0,28)]\n",
    "AÑOS = [ df[df.YEAR==(init + i)].TMAX.mean() for i in range(0,28)]\n",
    "\n",
    "d1 = {'AÑO': AÑO, 'PRECIP_TOTAL': AÑOS}\n",
    "df3 = pd.DataFrame(data=d1)\n",
    "df3.head()\n",
    "\n"
   ]
  },
  {
   "cell_type": "code",
   "execution_count": null,
   "metadata": {},
   "outputs": [],
   "source": [
    "#Calculando el promedio de temperatura mínima por año\n",
    "init = df.YEAR.min()\n",
    "AÑO2 = [init + i for i in range(0,28)]\n",
    "AÑOS = [ df[df.YEAR==(init + i)].TMIN.mean() for i in range(0,28)]\n",
    "\n",
    "d2 = {'AÑO': AÑO2, 'PRECIP_TOTAL': AÑOS}\n",
    "df4 = pd.DataFrame(data=d2)\n",
    "df4.head()"
   ]
  },
  {
   "cell_type": "code",
   "execution_count": null,
   "metadata": {},
   "outputs": [],
   "source": []
  }
 ],
 "metadata": {
  "kernelspec": {
   "display_name": "Python 3",
   "language": "python",
   "name": "python3"
  },
  "language_info": {
   "codemirror_mode": {
    "name": "ipython",
    "version": 3
   },
   "file_extension": ".py",
   "mimetype": "text/x-python",
   "name": "python",
   "nbconvert_exporter": "python",
   "pygments_lexer": "ipython3",
   "version": "3.6.3"
  }
 },
 "nbformat": 4,
 "nbformat_minor": 2
}
