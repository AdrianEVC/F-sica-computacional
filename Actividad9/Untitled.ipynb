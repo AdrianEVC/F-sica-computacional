{
 "cells": [
  {
   "cell_type": "code",
   "execution_count": 1,
   "metadata": {},
   "outputs": [],
   "source": [
    "def vectorfield(w, t, p): #Ecuacion diferencial del sistema masas-resortes\n",
    "                          #Donde:\n",
    "                          # w: vector de estados w=[x1,y1,x2,y2]\n",
    "                          # t: tiempo\n",
    "                          # p: vector de parametros p=[m1,m2,k1,k2,l1,l2,b1,b2]\n",
    "    x1, y1, x2, y2 = w\n",
    "    m1, m2, k1, k2,k3, L1, L2, b1, b2 = p\n",
    "\n",
    "    # Create f = (x1',y1',x2',y2'):\n",
    "    f = [y1, (-b1 * y1 - k1 * (x1 - L1) - k2 * (x1 - L1 + L2 - x2)) / m1, y2, (-b2 * y2 - k3 * (x2 - L2) - k2 * (x2 - L2 + L1 - x2))/ m2] \n",
    "    return f"
   ]
  },
  {
   "cell_type": "code",
   "execution_count": 2,
   "metadata": {},
   "outputs": [],
   "source": [
    "# Usamos ODEINT para resolver la ecuacion diferencial definida por el campo vectorial\n",
    "from scipy.integrate import odeint\n",
    "\n",
    "# Valores de los parametros\n",
    "# Masas:\n",
    "m1 = 1.0\n",
    "m2 = 1.0\n",
    "# Constante del resorte\n",
    "k1 = 1.0\n",
    "k2 = 1.2\n",
    "k3 = 1.5\n",
    "# Longuitud de los resortes sin entirar\n",
    "L1 = 1.0\n",
    "L2 = 1.0\n",
    "# Coeficientes de friccion\n",
    "b1 = 0.8\n",
    "b2 = 0.5\n",
    "\n",
    "# Condiciones iniciales\n",
    "# x1 y x2 son las posiciones iniciales; y1 y y2 son las velocidades iniciales\n",
    "x1 = 1.0\n",
    "y1 = 1.0\n",
    "x2 = 0.0\n",
    "y2 = 0.0\n",
    "\n",
    "# ODE solver parameters\n",
    "abserr = 1.0e-8\n",
    "relerr = 1.0e-6\n",
    "stoptime = 10.0\n",
    "numpoints = 250\n",
    "\n",
    "# Create the time samples for the output of the ODE solver.\n",
    "# I use a large number of points, only because I want to make\n",
    "# a plot of the solution that looks nice.\n",
    "t = [stoptime * float(i) / (numpoints - 1) for i in range(numpoints)]\n",
    "\n",
    "# Pack up the parameters and initial conditions:\n",
    "p = [m1, m2, k1, k2,k3, L1, L2, b1, b2]\n",
    "w0 = [x1, y1, x2, y2]\n",
    "\n",
    "# Call the ODE solver.\n",
    "wsol = odeint(vectorfield, w0, t, args=(p,),\n",
    "              atol=abserr, rtol=relerr)\n",
    "\n",
    "with open('two_springs.dat', 'w') as f:\n",
    "    # Print & save the solution.\n",
    "    for t1, w1 in zip(t, wsol):\n",
    "        print (f, t1, w1[0], w1[1], w1[2], w1[3],file =open('two_springs.dat ','a'))"
   ]
  },
  {
   "cell_type": "code",
   "execution_count": 3,
   "metadata": {},
   "outputs": [
    {
     "name": "stderr",
     "output_type": "stream",
     "text": [
      "/home/adrian/anaconda3/lib/python3.7/site-packages/ipykernel_launcher.py:5: UserWarning: loadtxt: Empty input file: \"two_springs.dat\"\n",
      "  \"\"\"\n"
     ]
    },
    {
     "ename": "ValueError",
     "evalue": "not enough values to unpack (expected 5, got 0)",
     "output_type": "error",
     "traceback": [
      "\u001b[0;31m---------------------------------------------------------------------------\u001b[0m",
      "\u001b[0;31mValueError\u001b[0m                                Traceback (most recent call last)",
      "\u001b[0;32m<ipython-input-3-1e366cd5d69d>\u001b[0m in \u001b[0;36m<module>\u001b[0;34m\u001b[0m\n\u001b[1;32m      3\u001b[0m \u001b[0;32mfrom\u001b[0m \u001b[0mmatplotlib\u001b[0m\u001b[0;34m.\u001b[0m\u001b[0mfont_manager\u001b[0m \u001b[0;32mimport\u001b[0m \u001b[0mFontProperties\u001b[0m\u001b[0;34m\u001b[0m\u001b[0;34m\u001b[0m\u001b[0m\n\u001b[1;32m      4\u001b[0m \u001b[0;34m\u001b[0m\u001b[0m\n\u001b[0;32m----> 5\u001b[0;31m \u001b[0mt\u001b[0m\u001b[0;34m,\u001b[0m \u001b[0mx1\u001b[0m\u001b[0;34m,\u001b[0m \u001b[0mxy\u001b[0m\u001b[0;34m,\u001b[0m \u001b[0mx2\u001b[0m\u001b[0;34m,\u001b[0m \u001b[0my2\u001b[0m \u001b[0;34m=\u001b[0m \u001b[0mloadtxt\u001b[0m\u001b[0;34m(\u001b[0m\u001b[0;34m'two_springs.dat'\u001b[0m\u001b[0;34m,\u001b[0m \u001b[0munpack\u001b[0m\u001b[0;34m=\u001b[0m\u001b[0;32mTrue\u001b[0m\u001b[0;34m)\u001b[0m\u001b[0;34m\u001b[0m\u001b[0;34m\u001b[0m\u001b[0m\n\u001b[0m\u001b[1;32m      6\u001b[0m \u001b[0;34m\u001b[0m\u001b[0m\n\u001b[1;32m      7\u001b[0m \u001b[0mfigure\u001b[0m\u001b[0;34m(\u001b[0m\u001b[0;36m1\u001b[0m\u001b[0;34m,\u001b[0m \u001b[0mfigsize\u001b[0m\u001b[0;34m=\u001b[0m\u001b[0;34m(\u001b[0m\u001b[0;36m6\u001b[0m\u001b[0;34m,\u001b[0m \u001b[0;36m4.5\u001b[0m\u001b[0;34m)\u001b[0m\u001b[0;34m)\u001b[0m\u001b[0;34m\u001b[0m\u001b[0;34m\u001b[0m\u001b[0m\n",
      "\u001b[0;31mValueError\u001b[0m: not enough values to unpack (expected 5, got 0)"
     ]
    }
   ],
   "source": [
    "from numpy import loadtxt\n",
    "from pylab import figure, plot, xlabel, grid, legend, title, savefig\n",
    "from matplotlib.font_manager import FontProperties\n",
    "\n",
    "t, x1, xy, x2, y2 = loadtxt('two_springs.dat', unpack=True)\n",
    "\n",
    "figure(1, figsize=(6, 4.5))\n",
    "\n",
    "xlabel('t')\n",
    "grid(True)\n",
    "lw = 1\n",
    "\n",
    "plot(t, x1, 'b', linewidth=lw)\n",
    "plot(t, x2, 'g', linewidth=lw)\n",
    "\n",
    "legend((r'$x_1$', r'$x_2$'), prop=FontProperties(size=16))\n",
    "title('Mass Displacements for the\\nCoupled Spring-Mass System')\n",
    "savefig('two_springs.png', dpi=100)\n"
   ]
  }
 ],
 "metadata": {
  "kernelspec": {
   "display_name": "Python 3",
   "language": "python",
   "name": "python3"
  },
  "language_info": {
   "codemirror_mode": {
    "name": "ipython",
    "version": 3
   },
   "file_extension": ".py",
   "mimetype": "text/x-python",
   "name": "python",
   "nbconvert_exporter": "python",
   "pygments_lexer": "ipython3",
   "version": "3.7.3"
  }
 },
 "nbformat": 4,
 "nbformat_minor": 2
}
